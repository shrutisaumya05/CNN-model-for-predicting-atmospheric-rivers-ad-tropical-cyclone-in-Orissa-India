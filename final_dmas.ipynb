{
  "nbformat": 4,
  "nbformat_minor": 0,
  "metadata": {
    "colab": {
      "provenance": [],
      "authorship_tag": "ABX9TyOodv2kZMMx5SmZnmV0H47X",
      "include_colab_link": true
    },
    "kernelspec": {
      "name": "python3",
      "display_name": "Python 3"
    },
    "language_info": {
      "name": "python"
    }
  },
  "cells": [
    {
      "cell_type": "markdown",
      "metadata": {
        "id": "view-in-github",
        "colab_type": "text"
      },
      "source": [
        "<a href=\"https://colab.research.google.com/github/shrutisaumya05/CNN-model-for-predicting-atmospheric-rivers-ad-tropical-cyclone-in-Orissa-India/blob/main/final_dmas.ipynb\" target=\"_parent\"><img src=\"https://colab.research.google.com/assets/colab-badge.svg\" alt=\"Open In Colab\"/></a>"
      ]
    },
    {
      "cell_type": "code",
      "execution_count": null,
      "metadata": {
        "colab": {
          "base_uri": "https://localhost:8080/"
        },
        "id": "kMuE8BBut-AK",
        "outputId": "f654f1b8-e93f-42e4-9c6f-2ec2fd28495d"
      },
      "outputs": [
        {
          "output_type": "stream",
          "name": "stdout",
          "text": [
            "Requirement already satisfied: xarray in /usr/local/lib/python3.10/dist-packages (2023.7.0)\n",
            "Collecting netcdf4\n",
            "  Downloading netCDF4-1.6.5-cp310-cp310-manylinux_2_17_x86_64.manylinux2014_x86_64.whl (5.5 MB)\n",
            "\u001b[2K     \u001b[90m━━━━━━━━━━━━━━━━━━━━━━━━━━━━━━━━━━━━━━━━\u001b[0m \u001b[32m5.5/5.5 MB\u001b[0m \u001b[31m15.6 MB/s\u001b[0m eta \u001b[36m0:00:00\u001b[0m\n",
            "\u001b[?25hRequirement already satisfied: numpy>=1.21 in /usr/local/lib/python3.10/dist-packages (from xarray) (1.25.2)\n",
            "Requirement already satisfied: pandas>=1.4 in /usr/local/lib/python3.10/dist-packages (from xarray) (2.0.3)\n",
            "Requirement already satisfied: packaging>=21.3 in /usr/local/lib/python3.10/dist-packages (from xarray) (24.0)\n",
            "Collecting cftime (from netcdf4)\n",
            "  Downloading cftime-1.6.3-cp310-cp310-manylinux_2_17_x86_64.manylinux2014_x86_64.whl (1.3 MB)\n",
            "\u001b[2K     \u001b[90m━━━━━━━━━━━━━━━━━━━━━━━━━━━━━━━━━━━━━━━━\u001b[0m \u001b[32m1.3/1.3 MB\u001b[0m \u001b[31m13.7 MB/s\u001b[0m eta \u001b[36m0:00:00\u001b[0m\n",
            "\u001b[?25hRequirement already satisfied: certifi in /usr/local/lib/python3.10/dist-packages (from netcdf4) (2024.2.2)\n",
            "Requirement already satisfied: python-dateutil>=2.8.2 in /usr/local/lib/python3.10/dist-packages (from pandas>=1.4->xarray) (2.8.2)\n",
            "Requirement already satisfied: pytz>=2020.1 in /usr/local/lib/python3.10/dist-packages (from pandas>=1.4->xarray) (2023.4)\n",
            "Requirement already satisfied: tzdata>=2022.1 in /usr/local/lib/python3.10/dist-packages (from pandas>=1.4->xarray) (2024.1)\n",
            "Requirement already satisfied: six>=1.5 in /usr/local/lib/python3.10/dist-packages (from python-dateutil>=2.8.2->pandas>=1.4->xarray) (1.16.0)\n",
            "Installing collected packages: cftime, netcdf4\n",
            "Successfully installed cftime-1.6.3 netcdf4-1.6.5\n"
          ]
        }
      ],
      "source": [
        "# install xarray and netCDF4\n",
        "!pip install xarray netcdf4"
      ]
    },
    {
      "cell_type": "code",
      "source": [
        "import requests\n",
        "from bs4 import BeautifulSoup\n",
        "import os\n",
        "import xarray as xr\n",
        "import concurrent.futures\n",
        "\n",
        "# URL containing the directory with NetCDF files\n",
        "url = \"https://portal.nersc.gov/project/ClimateNet/climatenet_new/train/\"\n",
        "\n",
        "# Use a session for HTTP requests\n",
        "with requests.Session() as session:\n",
        "    response = session.get(url)\n",
        "    if response.status_code == 200:\n",
        "        soup = BeautifulSoup(response.content, 'html.parser')\n",
        "        links = soup.find_all('a')\n",
        "\n",
        "        # Filter out links ending with '.nc' (NetCDF files)\n",
        "        file_links = [link.get('href') for link in links if link.get('href').endswith('.nc')]\n",
        "\n",
        "        # Count the number of files in the URL\n",
        "        num_files_in_url = len(file_links)\n",
        "\n",
        "        # Define a function to download files\n",
        "        def download_file(file_link):\n",
        "            filename = os.path.basename(file_link)\n",
        "            with open(filename, 'wb') as f:\n",
        "                f.write(session.get(url + file_link).content)\n",
        "            return filename\n",
        "\n",
        "        # Download files in parallel\n",
        "        with concurrent.futures.ThreadPoolExecutor() as executor:\n",
        "            downloaded_files = list(executor.map(download_file, file_links))\n",
        "\n",
        "# Count the number of files successfully downloaded\n",
        "num_files_downloaded = len(downloaded_files)\n",
        "\n",
        "# Read all NetCDF files into a single Dataset\n",
        "ds_train = xr.open_mfdataset(downloaded_files, combine='by_coords', engine='netcdf4', parallel=True)\n",
        "\n",
        "# Print the results\n",
        "print(f\"Number of files in the URL: {num_files_in_url}\")\n",
        "print(f\"Number of files successfully downloaded: {num_files_downloaded}\")\n",
        "\n",
        "# Print the combined dataset\n",
        "print(ds_train)\n"
      ],
      "metadata": {
        "id": "ERimbdsDuOS7",
        "colab": {
          "base_uri": "https://localhost:8080/"
        },
        "outputId": "43c946ea-89bd-4ada-871e-7e01ada0d37f"
      },
      "execution_count": null,
      "outputs": [
        {
          "output_type": "stream",
          "name": "stdout",
          "text": [
            "Number of files in the URL: 398\n",
            "Number of files successfully downloaded: 398\n",
            "<xarray.Dataset>\n",
            "Dimensions:  (lat: 768, lon: 1152, time: 188)\n",
            "Coordinates:\n",
            "  * lat      (lat) float64 -90.0 -89.77 -89.53 -89.3 ... 89.3 89.53 89.77 90.0\n",
            "  * lon      (lon) float64 0.0 0.3125 0.625 0.9375 ... 358.8 359.1 359.4 359.7\n",
            "  * time     (time) object 'data-1996-06-09-01-1.nc' ... 'data-2010-10-29-01-...\n",
            "Data variables: (12/17)\n",
            "    TMQ      (time, lat, lon) float32 dask.array<chunksize=(1, 768, 1152), meta=np.ndarray>\n",
            "    U850     (time, lat, lon) float32 dask.array<chunksize=(1, 768, 1152), meta=np.ndarray>\n",
            "    V850     (time, lat, lon) float32 dask.array<chunksize=(1, 768, 1152), meta=np.ndarray>\n",
            "    UBOT     (time, lat, lon) float32 dask.array<chunksize=(1, 768, 1152), meta=np.ndarray>\n",
            "    VBOT     (time, lat, lon) float32 dask.array<chunksize=(1, 768, 1152), meta=np.ndarray>\n",
            "    QREFHT   (time, lat, lon) float32 dask.array<chunksize=(1, 768, 1152), meta=np.ndarray>\n",
            "    ...       ...\n",
            "    TS       (time, lat, lon) float32 dask.array<chunksize=(1, 768, 1152), meta=np.ndarray>\n",
            "    TREFHT   (time, lat, lon) float32 dask.array<chunksize=(1, 768, 1152), meta=np.ndarray>\n",
            "    Z1000    (time, lat, lon) float32 dask.array<chunksize=(1, 768, 1152), meta=np.ndarray>\n",
            "    Z200     (time, lat, lon) float32 dask.array<chunksize=(1, 768, 1152), meta=np.ndarray>\n",
            "    ZBOT     (time, lat, lon) float32 dask.array<chunksize=(1, 768, 1152), meta=np.ndarray>\n",
            "    LABELS   (time, lat, lon) int64 dask.array<chunksize=(1, 768, 1152), meta=np.ndarray>\n"
          ]
        }
      ]
    },
    {
      "cell_type": "code",
      "source": [
        "# URL containing the directory with NetCDF files\n",
        "url = \"https://portal.nersc.gov/project/ClimateNet/climatenet_new/test/\"\n",
        "\n",
        "# Use a session for HTTP requests\n",
        "with requests.Session() as session:\n",
        "    response = session.get(url)\n",
        "    if response.status_code == 200:\n",
        "        soup = BeautifulSoup(response.content, 'html.parser')\n",
        "        links = soup.find_all('a')\n",
        "\n",
        "        # Filter out links ending with '.nc' (NetCDF files)\n",
        "        file_links = [link.get('href') for link in links if link.get('href').endswith('.nc')]\n",
        "\n",
        "        # Count the number of files in the URL\n",
        "        num_files_in_url = len(file_links)\n",
        "\n",
        "        # Define a function to download files\n",
        "        def download_file(file_link):\n",
        "            filename = os.path.basename(file_link)\n",
        "            with open(filename, 'wb') as f:\n",
        "                f.write(session.get(url + file_link).content)\n",
        "            return filename\n",
        "\n",
        "        # Download files in parallel\n",
        "        with concurrent.futures.ThreadPoolExecutor() as executor:\n",
        "            downloaded_files = list(executor.map(download_file, file_links))\n",
        "\n",
        "# Count the number of files successfully downloaded\n",
        "num_files_downloaded = len(downloaded_files)\n",
        "\n",
        "# Read all NetCDF files into a single Dataset\n",
        "ds_test = xr.open_mfdataset(downloaded_files, combine='by_coords', engine='netcdf4', parallel=True)\n",
        "\n",
        "# Print the results\n",
        "print(f\"Number of files in the URL: {num_files_in_url}\")\n",
        "print(f\"Number of files successfully downloaded: {num_files_downloaded}\")\n",
        "\n",
        "# Print the combined dataset\n",
        "print(ds_test)"
      ],
      "metadata": {
        "id": "XLd_KRp4wyzi",
        "colab": {
          "base_uri": "https://localhost:8080/"
        },
        "outputId": "b39844ba-ba13-450e-db3f-5841feaf7d9c"
      },
      "execution_count": null,
      "outputs": [
        {
          "output_type": "stream",
          "name": "stdout",
          "text": [
            "Number of files in the URL: 61\n",
            "Number of files successfully downloaded: 61\n",
            "<xarray.Dataset>\n",
            "Dimensions:  (lat: 768, lon: 1152, time: 31)\n",
            "Coordinates:\n",
            "  * lat      (lat) float64 -90.0 -89.77 -89.53 -89.3 ... 89.3 89.53 89.77 90.0\n",
            "  * lon      (lon) float64 0.0 0.3125 0.625 0.9375 ... 358.8 359.1 359.4 359.7\n",
            "  * time     (time) object 'data-2011-06-01-01-1.nc' ... 'data-2013-09-27-01-...\n",
            "Data variables: (12/17)\n",
            "    TMQ      (time, lat, lon) float32 dask.array<chunksize=(1, 768, 1152), meta=np.ndarray>\n",
            "    U850     (time, lat, lon) float32 dask.array<chunksize=(1, 768, 1152), meta=np.ndarray>\n",
            "    V850     (time, lat, lon) float32 dask.array<chunksize=(1, 768, 1152), meta=np.ndarray>\n",
            "    UBOT     (time, lat, lon) float32 dask.array<chunksize=(1, 768, 1152), meta=np.ndarray>\n",
            "    VBOT     (time, lat, lon) float32 dask.array<chunksize=(1, 768, 1152), meta=np.ndarray>\n",
            "    QREFHT   (time, lat, lon) float32 dask.array<chunksize=(1, 768, 1152), meta=np.ndarray>\n",
            "    ...       ...\n",
            "    TS       (time, lat, lon) float32 dask.array<chunksize=(1, 768, 1152), meta=np.ndarray>\n",
            "    TREFHT   (time, lat, lon) float32 dask.array<chunksize=(1, 768, 1152), meta=np.ndarray>\n",
            "    Z1000    (time, lat, lon) float32 dask.array<chunksize=(1, 768, 1152), meta=np.ndarray>\n",
            "    Z200     (time, lat, lon) float32 dask.array<chunksize=(1, 768, 1152), meta=np.ndarray>\n",
            "    ZBOT     (time, lat, lon) float32 dask.array<chunksize=(1, 768, 1152), meta=np.ndarray>\n",
            "    LABELS   (time, lat, lon) int64 dask.array<chunksize=(1, 768, 1152), meta=np.ndarray>\n"
          ]
        }
      ]
    },
    {
      "cell_type": "code",
      "source": [
        "ds_train['TMQ'].shape"
      ],
      "metadata": {
        "id": "69iqotWL3p6j",
        "colab": {
          "base_uri": "https://localhost:8080/"
        },
        "outputId": "8804f98e-0760-4a05-d0c8-dfe4c186caa0"
      },
      "execution_count": null,
      "outputs": [
        {
          "output_type": "execute_result",
          "data": {
            "text/plain": [
              "(188, 768, 1152)"
            ]
          },
          "metadata": {},
          "execution_count": 4
        }
      ]
    },
    {
      "cell_type": "code",
      "source": [
        "ds_test['TMQ'].shape"
      ],
      "metadata": {
        "id": "qhbapFp23tEO",
        "colab": {
          "base_uri": "https://localhost:8080/"
        },
        "outputId": "54c9536d-c725-41ae-ccc8-d867be60b27d"
      },
      "execution_count": null,
      "outputs": [
        {
          "output_type": "execute_result",
          "data": {
            "text/plain": [
              "(31, 768, 1152)"
            ]
          },
          "metadata": {},
          "execution_count": 5
        }
      ]
    },
    {
      "cell_type": "code",
      "source": [
        "import numpy as np\n",
        "\n",
        "def process_data(ds, features):\n",
        "    lat = ds['lat'].values\n",
        "    lon = ds['lon'].values\n",
        "    time = ds['time'].values\n",
        "    labels = ds['LABELS'].values\n",
        "\n",
        "    arrays = np.stack([ds[feature].values for feature in features], axis=-1)\n",
        "\n",
        "    return lat, lon, time, labels, arrays\n",
        "\n",
        "# For train data\n",
        "train_features = ['TMQ', 'U850', 'V850', 'PRECT']\n",
        "train_lat, train_lon, train_time, train_labels, train_arrays = process_data(ds_train, train_features)\n",
        "\n",
        "# For test data\n",
        "test_features = ['TMQ', 'U850', 'V850', 'PRECT']\n",
        "test_lat, test_lon, test_time, test_labels, test_arrays = process_data(ds_test, test_features)\n",
        "\n",
        "# Expand dimensions to add an extra dimension for the label values\n",
        "train_labels = np.expand_dims(train_labels, axis=-1)\n",
        "\n",
        "# Expand dimensions to add an extra dimension for the label values\n",
        "test_labels = np.expand_dims(test_labels, axis=-1)"
      ],
      "metadata": {
        "id": "9G_jfYRo3vvK"
      },
      "execution_count": null,
      "outputs": []
    },
    {
      "cell_type": "code",
      "source": [
        "train_arrays.shape"
      ],
      "metadata": {
        "colab": {
          "base_uri": "https://localhost:8080/"
        },
        "id": "cGoehWC3CIef",
        "outputId": "64efcc79-d7e5-4ea1-ea5b-a7b4adb7d05f"
      },
      "execution_count": null,
      "outputs": [
        {
          "output_type": "execute_result",
          "data": {
            "text/plain": [
              "(188, 768, 1152, 4)"
            ]
          },
          "metadata": {},
          "execution_count": 7
        }
      ]
    },
    {
      "cell_type": "code",
      "source": [
        "test_arrays.shape"
      ],
      "metadata": {
        "colab": {
          "base_uri": "https://localhost:8080/"
        },
        "id": "zEGb5tdzCY20",
        "outputId": "4cc6fb3a-ac55-4337-9469-64c5738815ce"
      },
      "execution_count": null,
      "outputs": [
        {
          "output_type": "execute_result",
          "data": {
            "text/plain": [
              "(31, 768, 1152, 4)"
            ]
          },
          "metadata": {},
          "execution_count": 8
        }
      ]
    },
    {
      "cell_type": "code",
      "source": [
        "train_labels.shape"
      ],
      "metadata": {
        "colab": {
          "base_uri": "https://localhost:8080/"
        },
        "id": "jKQOhkXlCl1V",
        "outputId": "fd9230db-5241-4fef-da19-5c294bffd15b"
      },
      "execution_count": null,
      "outputs": [
        {
          "output_type": "execute_result",
          "data": {
            "text/plain": [
              "(188, 768, 1152, 1)"
            ]
          },
          "metadata": {},
          "execution_count": 9
        }
      ]
    },
    {
      "cell_type": "code",
      "source": [
        "test_labels.shape"
      ],
      "metadata": {
        "id": "T8zx1D7K8n7J",
        "colab": {
          "base_uri": "https://localhost:8080/"
        },
        "outputId": "1de3e81d-addd-45ed-d0b1-86cc58a82454"
      },
      "execution_count": null,
      "outputs": [
        {
          "output_type": "execute_result",
          "data": {
            "text/plain": [
              "(31, 768, 1152, 1)"
            ]
          },
          "metadata": {},
          "execution_count": 10
        }
      ]
    },
    {
      "cell_type": "code",
      "source": [
        "# Define latitude and longitude ranges for the Orissa region\n",
        "des_minlat, des_maxlat = 16, 24\n",
        "des_minlon, des_maxlon = 80, 89\n",
        "\n",
        "# Find the index ranges for the required latitude and longitude ranges\n",
        "lat_range = np.where((train_lat >= des_minlat) & (train_lat <= des_maxlat))[0]\n",
        "lon_range = np.where((train_lon >= des_minlon) & (train_lon <= des_maxlon))[0]\n",
        "\n",
        "# Ensure the ranges are within the bounds of the data\n",
        "lat_range = slice(lat_range.min(), lat_range.max() + 1)\n",
        "lon_range = slice(lon_range.min(), lon_range.max() + 1)"
      ],
      "metadata": {
        "id": "rRgTh3Nc4Jis"
      },
      "execution_count": null,
      "outputs": []
    },
    {
      "cell_type": "code",
      "source": [
        "train_arrays_sliced = train_arrays[:,lat_range, lon_range, : ]\n",
        "test_arrays_sliced = test_arrays[:,lat_range, lon_range,: ]\n",
        "train_labels_sliced = train_labels[:, lat_range, lon_range,:]\n",
        "test_labels_sliced = test_labels[:,lat_range, lon_range,:]"
      ],
      "metadata": {
        "id": "LzQanLHk4NDR"
      },
      "execution_count": null,
      "outputs": []
    },
    {
      "cell_type": "code",
      "source": [
        "train_arrays_sliced.shape"
      ],
      "metadata": {
        "id": "rnRL0VdE4QEY",
        "colab": {
          "base_uri": "https://localhost:8080/"
        },
        "outputId": "f5a3eadf-0918-4b82-a5d3-9b99bf8c701c"
      },
      "execution_count": null,
      "outputs": [
        {
          "output_type": "execute_result",
          "data": {
            "text/plain": [
              "(188, 34, 29, 4)"
            ]
          },
          "metadata": {},
          "execution_count": 62
        }
      ]
    },
    {
      "cell_type": "code",
      "source": [
        "test_arrays_sliced.shape"
      ],
      "metadata": {
        "id": "Gwj8Oc8_4UGd",
        "colab": {
          "base_uri": "https://localhost:8080/"
        },
        "outputId": "e51269c2-7b30-40b2-e0fb-cd1ef1bacaee"
      },
      "execution_count": null,
      "outputs": [
        {
          "output_type": "execute_result",
          "data": {
            "text/plain": [
              "(31, 34, 29, 4)"
            ]
          },
          "metadata": {},
          "execution_count": 63
        }
      ]
    },
    {
      "cell_type": "code",
      "source": [
        "train_labels_sliced.shape"
      ],
      "metadata": {
        "id": "7y49q7fQ8bhg",
        "colab": {
          "base_uri": "https://localhost:8080/"
        },
        "outputId": "2cfbcb3e-6581-474a-8ba2-97b943c26357"
      },
      "execution_count": null,
      "outputs": [
        {
          "output_type": "execute_result",
          "data": {
            "text/plain": [
              "(188, 34, 29, 1)"
            ]
          },
          "metadata": {},
          "execution_count": 64
        }
      ]
    },
    {
      "cell_type": "code",
      "source": [
        "test_labels_sliced.shape"
      ],
      "metadata": {
        "colab": {
          "base_uri": "https://localhost:8080/"
        },
        "id": "bDOL2id8C0Jy",
        "outputId": "35e2894e-0f26-499f-ee1c-4a4dda81fd07"
      },
      "execution_count": null,
      "outputs": [
        {
          "output_type": "execute_result",
          "data": {
            "text/plain": [
              "(31, 34, 29, 1)"
            ]
          },
          "metadata": {},
          "execution_count": 65
        }
      ]
    },
    {
      "cell_type": "code",
      "source": [
        "len(train_arrays_sliced)"
      ],
      "metadata": {
        "colab": {
          "base_uri": "https://localhost:8080/"
        },
        "id": "eXI2Ytrbz51N",
        "outputId": "f132e343-454d-4553-dbc1-700856acf7ca"
      },
      "execution_count": null,
      "outputs": [
        {
          "output_type": "execute_result",
          "data": {
            "text/plain": [
              "188"
            ]
          },
          "metadata": {},
          "execution_count": 66
        }
      ]
    },
    {
      "cell_type": "code",
      "source": [
        "import numpy as np\n",
        "from tensorflow.keras import layers, models\n",
        "from keras.utils import to_categorical\n",
        "\n",
        "def reshape_labels(labels, num_classes):\n",
        "    # Reshape labels to (batch_size, num_pixels)\n",
        "    labels_reshaped = np.reshape(labels, (labels.shape[0], -1))\n",
        "\n",
        "    # One-hot encode the labels\n",
        "    labels_onehot = to_categorical(labels_reshaped, num_classes=num_classes)\n",
        "\n",
        "    # Reshape labels_onehot to (batch_size, 986, num_classes) where 986 = 34 * 29\n",
        "    labels_onehot_reshaped = np.reshape(labels_onehot, (labels_onehot.shape[0], 34, 29, num_classes))\n",
        "\n",
        "    return labels_onehot_reshaped\n",
        "\n",
        "# Define the number of classes\n",
        "num_classes = 3  # BG,TC,AR\n",
        "\n",
        "# Reshape train labels\n",
        "train_labels_reshaped = reshape_labels(train_labels_sliced, num_classes)\n",
        "\n",
        "# Reshape test labels\n",
        "test_labels_reshaped = reshape_labels(test_labels_sliced, num_classes)\n",
        "\n",
        "\n",
        "# Define the size of the validation set\n",
        "training_size = 0.8  # 20% of the train data will be used for validation\n",
        "\n",
        "# Calculate the number of samples for validation\n",
        "num_training_samples = int(training_size * len(train_arrays_sliced))\n",
        "\n",
        "# Split the test data into validation and test sets\n",
        "training_data = (train_arrays_sliced[:num_training_samples], train_labels_reshaped[:num_training_samples])\n",
        "\n",
        "\n",
        "# Split the test data into validation and test sets\n",
        "validation_data = (train_arrays_sliced[num_training_samples:], train_labels_reshaped[num_training_samples:])\n",
        "\n",
        "# Define the model architecture\n",
        "model = models.Sequential()\n",
        "\n",
        "# Convolutional layers with padding and batch normalization\n",
        "model.add(layers.Conv2D(32, kernel_size=(3, 3), activation='relu', padding='same', input_shape=train_arrays_sliced.shape[1:]))\n",
        "model.add(layers.BatchNormalization())\n",
        "model.add(layers.MaxPooling2D(pool_size=(2, 2)))\n",
        "model.add(layers.Conv2D(64, kernel_size=(3, 3), activation='relu', padding='same'))\n",
        "model.add(layers.BatchNormalization())\n",
        "model.add(layers.MaxPooling2D(pool_size=(2, 2)))\n",
        "model.add(layers.Conv2D(128, kernel_size=(3, 3), activation='relu', padding='same'))\n",
        "model.add(layers.BatchNormalization())\n",
        "model.add(layers.MaxPooling2D(pool_size=(2, 2)))\n",
        "\n",
        "# Flatten layer\n",
        "model.add(layers.Flatten())\n",
        "\n",
        "# Fully connected layers\n",
        "model.add(layers.Dense(128, activation='relu'))\n",
        "\n",
        "# Output layer adjusted to match the desired output shape\n",
        "model.add(layers.Dense(34*29*num_classes, activation='softmax'))  # labels for each lat and lon\n",
        "\n",
        "# Reshape the output to (None, 986, num_classes)\n",
        "model.add(layers.Reshape((34,29, num_classes)))\n",
        "\n",
        "# Compile the model\n",
        "model.compile(optimizer='adam', loss='categorical_crossentropy', metrics=['accuracy'])"
      ],
      "metadata": {
        "id": "ibDnyRckvrU8"
      },
      "execution_count": null,
      "outputs": []
    },
    {
      "cell_type": "code",
      "source": [
        "len(validation_data[0])"
      ],
      "metadata": {
        "colab": {
          "base_uri": "https://localhost:8080/"
        },
        "id": "P337kLJO0nId",
        "outputId": "a1250efb-5473-46da-aa67-abf1ee7794ce"
      },
      "execution_count": null,
      "outputs": [
        {
          "output_type": "execute_result",
          "data": {
            "text/plain": [
              "38"
            ]
          },
          "metadata": {},
          "execution_count": 68
        }
      ]
    },
    {
      "cell_type": "code",
      "source": [
        "train_labels_reshaped.shape"
      ],
      "metadata": {
        "colab": {
          "base_uri": "https://localhost:8080/"
        },
        "id": "L7lMmw6AZnZL",
        "outputId": "dd1c20d6-e0c7-4e8a-e3c8-b4d33bf3f8e7"
      },
      "execution_count": null,
      "outputs": [
        {
          "output_type": "execute_result",
          "data": {
            "text/plain": [
              "(188, 34, 29, 3)"
            ]
          },
          "metadata": {},
          "execution_count": 69
        }
      ]
    },
    {
      "cell_type": "code",
      "source": [
        "test_labels_reshaped.shape"
      ],
      "metadata": {
        "colab": {
          "base_uri": "https://localhost:8080/"
        },
        "id": "b5p1FYYpMTbA",
        "outputId": "53ec34f4-66ab-4726-93a2-41a3cfe7db7e"
      },
      "execution_count": null,
      "outputs": [
        {
          "output_type": "execute_result",
          "data": {
            "text/plain": [
              "(31, 34, 29, 3)"
            ]
          },
          "metadata": {},
          "execution_count": 70
        }
      ]
    },
    {
      "cell_type": "code",
      "source": [
        "validation_data[0].shape"
      ],
      "metadata": {
        "colab": {
          "base_uri": "https://localhost:8080/"
        },
        "id": "HlytRONMMaQt",
        "outputId": "e0f87dc1-3aac-4e7d-9720-2c668665c827"
      },
      "execution_count": null,
      "outputs": [
        {
          "output_type": "execute_result",
          "data": {
            "text/plain": [
              "(38, 34, 29, 4)"
            ]
          },
          "metadata": {},
          "execution_count": 71
        }
      ]
    },
    {
      "cell_type": "code",
      "source": [
        "validation_data[1].shape"
      ],
      "metadata": {
        "colab": {
          "base_uri": "https://localhost:8080/"
        },
        "id": "S7mQ2ZzLMhby",
        "outputId": "1ce27323-2d48-4a1e-9685-c39585a54195"
      },
      "execution_count": null,
      "outputs": [
        {
          "output_type": "execute_result",
          "data": {
            "text/plain": [
              "(38, 34, 29, 3)"
            ]
          },
          "metadata": {},
          "execution_count": 72
        }
      ]
    },
    {
      "cell_type": "code",
      "source": [
        "len(training_data[0])"
      ],
      "metadata": {
        "colab": {
          "base_uri": "https://localhost:8080/"
        },
        "id": "93pHJsjYMk0r",
        "outputId": "1b392aaa-14b2-4eb2-88de-2c0edb1e303a"
      },
      "execution_count": null,
      "outputs": [
        {
          "output_type": "execute_result",
          "data": {
            "text/plain": [
              "150"
            ]
          },
          "metadata": {},
          "execution_count": 73
        }
      ]
    },
    {
      "cell_type": "code",
      "source": [
        "training_data[0].shape"
      ],
      "metadata": {
        "colab": {
          "base_uri": "https://localhost:8080/"
        },
        "id": "0cps-mlgMtqi",
        "outputId": "2a9200bc-d51b-445d-d9a2-50acd42c5ee2"
      },
      "execution_count": null,
      "outputs": [
        {
          "output_type": "execute_result",
          "data": {
            "text/plain": [
              "(150, 34, 29, 4)"
            ]
          },
          "metadata": {},
          "execution_count": 74
        }
      ]
    },
    {
      "cell_type": "code",
      "source": [
        "training_data[1].shape"
      ],
      "metadata": {
        "colab": {
          "base_uri": "https://localhost:8080/"
        },
        "id": "LOBTUWmYMyaJ",
        "outputId": "2f560568-7847-4bb9-ed5a-1ae2c075037b"
      },
      "execution_count": null,
      "outputs": [
        {
          "output_type": "execute_result",
          "data": {
            "text/plain": [
              "(150, 34, 29, 3)"
            ]
          },
          "metadata": {},
          "execution_count": 75
        }
      ]
    },
    {
      "cell_type": "code",
      "source": [
        "# Print model summary\n",
        "model.summary()"
      ],
      "metadata": {
        "colab": {
          "base_uri": "https://localhost:8080/"
        },
        "id": "ISTuNLOwCuPr",
        "outputId": "eb52934c-2178-44e9-fb63-5c6f7e64aac8"
      },
      "execution_count": null,
      "outputs": [
        {
          "output_type": "stream",
          "name": "stdout",
          "text": [
            "Model: \"sequential_2\"\n",
            "_________________________________________________________________\n",
            " Layer (type)                Output Shape              Param #   \n",
            "=================================================================\n",
            " conv2d_6 (Conv2D)           (None, 34, 29, 32)        1184      \n",
            "                                                                 \n",
            " batch_normalization_6 (Bat  (None, 34, 29, 32)        128       \n",
            " chNormalization)                                                \n",
            "                                                                 \n",
            " max_pooling2d_6 (MaxPoolin  (None, 17, 14, 32)        0         \n",
            " g2D)                                                            \n",
            "                                                                 \n",
            " conv2d_7 (Conv2D)           (None, 17, 14, 64)        18496     \n",
            "                                                                 \n",
            " batch_normalization_7 (Bat  (None, 17, 14, 64)        256       \n",
            " chNormalization)                                                \n",
            "                                                                 \n",
            " max_pooling2d_7 (MaxPoolin  (None, 8, 7, 64)          0         \n",
            " g2D)                                                            \n",
            "                                                                 \n",
            " conv2d_8 (Conv2D)           (None, 8, 7, 128)         73856     \n",
            "                                                                 \n",
            " batch_normalization_8 (Bat  (None, 8, 7, 128)         512       \n",
            " chNormalization)                                                \n",
            "                                                                 \n",
            " max_pooling2d_8 (MaxPoolin  (None, 4, 3, 128)         0         \n",
            " g2D)                                                            \n",
            "                                                                 \n",
            " flatten_2 (Flatten)         (None, 1536)              0         \n",
            "                                                                 \n",
            " dense_4 (Dense)             (None, 128)               196736    \n",
            "                                                                 \n",
            " dense_5 (Dense)             (None, 2958)              381582    \n",
            "                                                                 \n",
            " reshape_2 (Reshape)         (None, 34, 29, 3)         0         \n",
            "                                                                 \n",
            "=================================================================\n",
            "Total params: 672750 (2.57 MB)\n",
            "Trainable params: 672302 (2.56 MB)\n",
            "Non-trainable params: 448 (1.75 KB)\n",
            "_________________________________________________________________\n"
          ]
        }
      ]
    },
    {
      "cell_type": "code",
      "source": [
        "from sklearn.metrics import classification_report\n",
        "\n",
        "# Fit the model to the training data\n",
        "history = model.fit(training_data[0], training_data[1], validation_data=validation_data, epochs=10, batch_size=32)\n",
        "\n",
        "# Make predictions on the test data\n",
        "predictions = model.predict(test_arrays_sliced)\n",
        "\n",
        "# Convert predictions to class labels\n",
        "predicted_labels = np.argmax(predictions, axis=-1)\n",
        "\n",
        "predicted_labels_reshaped = reshape_labels(predicted_labels, num_classes)\n"
      ],
      "metadata": {
        "colab": {
          "base_uri": "https://localhost:8080/"
        },
        "id": "e5bQhrR2e2OI",
        "outputId": "f057ae2f-c347-4dbc-8750-758eddd4dae4"
      },
      "execution_count": null,
      "outputs": [
        {
          "output_type": "stream",
          "name": "stdout",
          "text": [
            "Epoch 1/10\n",
            "5/5 [==============================] - 4s 292ms/step - loss: 0.8214 - accuracy: 0.6259 - val_loss: 0.4565 - val_accuracy: 0.9172\n",
            "Epoch 2/10\n",
            "5/5 [==============================] - 1s 199ms/step - loss: 0.1321 - accuracy: 0.9762 - val_loss: 0.3606 - val_accuracy: 0.9785\n",
            "Epoch 3/10\n",
            "5/5 [==============================] - 1s 113ms/step - loss: 0.0779 - accuracy: 0.9861 - val_loss: 0.3419 - val_accuracy: 0.9764\n",
            "Epoch 4/10\n",
            "5/5 [==============================] - 1s 120ms/step - loss: 0.0551 - accuracy: 0.9861 - val_loss: 0.1782 - val_accuracy: 0.9823\n",
            "Epoch 5/10\n",
            "5/5 [==============================] - 1s 104ms/step - loss: 0.0365 - accuracy: 0.9864 - val_loss: 0.1990 - val_accuracy: 0.9817\n",
            "Epoch 6/10\n",
            "5/5 [==============================] - 1s 115ms/step - loss: 0.0334 - accuracy: 0.9891 - val_loss: 0.1650 - val_accuracy: 0.9823\n",
            "Epoch 7/10\n",
            "5/5 [==============================] - 1s 124ms/step - loss: 0.0295 - accuracy: 0.9873 - val_loss: 0.1736 - val_accuracy: 0.9813\n",
            "Epoch 8/10\n",
            "5/5 [==============================] - 1s 109ms/step - loss: 0.0262 - accuracy: 0.9937 - val_loss: 0.1384 - val_accuracy: 0.9818\n",
            "Epoch 9/10\n",
            "5/5 [==============================] - 1s 108ms/step - loss: 0.0214 - accuracy: 0.9905 - val_loss: 0.1312 - val_accuracy: 0.9820\n",
            "Epoch 10/10\n",
            "5/5 [==============================] - 1s 112ms/step - loss: 0.0171 - accuracy: 0.9965 - val_loss: 0.1680 - val_accuracy: 0.9743\n",
            "1/1 [==============================] - 0s 156ms/step\n"
          ]
        }
      ]
    },
    {
      "cell_type": "code",
      "source": [
        "predicted_labels_reshaped.shape"
      ],
      "metadata": {
        "colab": {
          "base_uri": "https://localhost:8080/"
        },
        "id": "LR8sixvAheHw",
        "outputId": "383bfc57-f41a-47d5-f1d1-c22020e576d3"
      },
      "execution_count": null,
      "outputs": [
        {
          "output_type": "execute_result",
          "data": {
            "text/plain": [
              "(31, 34, 29, 3)"
            ]
          },
          "metadata": {},
          "execution_count": 78
        }
      ]
    },
    {
      "cell_type": "code",
      "source": [
        "print(\"Shape of train_arrays_sliced:\", train_arrays_sliced.shape)\n",
        "print(\"Shape of test_arrays_sliced:\", test_arrays_sliced.shape)\n",
        "print(\"Shape of train_labels_reshaped:\", train_labels_reshaped.shape)\n",
        "print(\"Shape of test_labels_reshaped:\", test_labels_reshaped.shape)\n"
      ],
      "metadata": {
        "colab": {
          "base_uri": "https://localhost:8080/"
        },
        "id": "j1bfb_mRAe7C",
        "outputId": "54e15fa0-c0d8-4a2a-aa8a-3c05219c25c7"
      },
      "execution_count": null,
      "outputs": [
        {
          "output_type": "stream",
          "name": "stdout",
          "text": [
            "Shape of train_arrays_sliced: (188, 34, 29, 4)\n",
            "Shape of test_arrays_sliced: (31, 34, 29, 4)\n",
            "Shape of train_labels_reshaped: (188, 34, 29, 3)\n",
            "Shape of test_labels_reshaped: (31, 34, 29, 3)\n"
          ]
        }
      ]
    },
    {
      "cell_type": "code",
      "source": [
        "import matplotlib.pyplot as plt\n",
        "\n",
        "# Plot training & validation accuracy values\n",
        "plt.plot(history.history['accuracy'])\n",
        "plt.plot(history.history['val_accuracy'])\n",
        "plt.title('Model accuracy')\n",
        "plt.xlabel('Epoch')\n",
        "plt.ylabel('Accuracy')\n",
        "plt.legend(['Train', 'Validation'], loc='upper left')\n",
        "plt.show()\n",
        "\n",
        "# Plot training & validation loss values\n",
        "plt.plot(history.history['loss'])\n",
        "plt.plot(history.history['val_loss'])\n",
        "plt.title('Model loss')\n",
        "plt.xlabel('Epoch')\n",
        "plt.ylabel('Loss')\n",
        "plt.legend(['Train', 'Validation'], loc='upper left')\n",
        "plt.show()\n"
      ],
      "metadata": {
        "colab": {
          "base_uri": "https://localhost:8080/",
          "height": 927
        },
        "id": "xEie7NJpKELq",
        "outputId": "8f217e0a-0193-45d1-8282-988e12b701b1"
      },
      "execution_count": null,
      "outputs": [
        {
          "output_type": "display_data",
          "data": {
            "text/plain": [
              "<Figure size 640x480 with 1 Axes>"
            ],
            "image/png": "[encoded data removed]"
          },
          "metadata": {}
        },
        {
          "output_type": "display_data",
          "data": {
            "text/plain": [
              "<Figure size 640x480 with 1 Axes>"
            ],
            "image/png": "[encoded data removed]"
          },
          "metadata": {}
        }
      ]
    },
    {
      "cell_type": "code",
      "source": [
        "import numpy as np\n",
        "\n",
        "# Flatten the train_labels_sliced array to count occurrences of each label\n",
        "flat_labels = train_labels_sliced.flatten()\n",
        "\n",
        "# Count the occurrences of each unique label\n",
        "unique_labels, label_counts = np.unique(flat_labels, return_counts=True)\n",
        "\n",
        "# Print the counts for each unique label\n",
        "for label, count in zip(unique_labels, label_counts):\n",
        "    print(\"Label:\", label, \"Count:\", count)\n"
      ],
      "metadata": {
        "colab": {
          "base_uri": "https://localhost:8080/"
        },
        "id": "3wpE5jcaLr_x",
        "outputId": "1cd313da-c7fb-47b9-aa5f-3a3e14916611"
      },
      "execution_count": null,
      "outputs": [
        {
          "output_type": "stream",
          "name": "stdout",
          "text": [
            "Label: 0 Count: 182657\n",
            "Label: 1 Count: 2673\n",
            "Label: 2 Count: 38\n"
          ]
        }
      ]
    },
    {
      "cell_type": "code",
      "source": [
        "import numpy as np\n",
        "\n",
        "# Flatten the train_labels_sliced array to count occurrences of each label\n",
        "flat_labels = test_labels_sliced.flatten()\n",
        "\n",
        "# Count the occurrences of each unique label\n",
        "unique_labels, label_counts = np.unique(flat_labels, return_counts=True)\n",
        "\n",
        "# Print the counts for each unique label\n",
        "for label, count in zip(unique_labels, label_counts):\n",
        "    print(\"Label:\", label, \"Count:\", count)"
      ],
      "metadata": {
        "colab": {
          "base_uri": "https://localhost:8080/"
        },
        "id": "ADmo--HmLs3h",
        "outputId": "21a24a75-ab11-4712-93ac-c32542b4f608"
      },
      "execution_count": null,
      "outputs": [
        {
          "output_type": "stream",
          "name": "stdout",
          "text": [
            "Label: 0 Count: 30310\n",
            "Label: 1 Count: 256\n"
          ]
        }
      ]
    },
    {
      "cell_type": "code",
      "source": [
        "# Check if there are any occurrences of labels 0, 1, or 2 in the predicted_labels array\n",
        "has_label_0 = np.sum(predicted_labels == 0)\n",
        "has_label_1 = np.sum(predicted_labels == 1)\n",
        "has_label_2 = np.sum(predicted_labels == 2)\n",
        "\n",
        "# Print the results\n",
        "print(f\"Occurrences of label 0: {has_label_0}\")\n",
        "print(f\"Occurrences of label 1: {has_label_1}\")\n",
        "print(f\"Occurrences of label 2: {has_label_2}\")\n"
      ],
      "metadata": {
        "colab": {
          "base_uri": "https://localhost:8080/"
        },
        "id": "fTvTh_pXMgaa",
        "outputId": "26dd649a-7330-4f25-a2eb-544069cffdb1"
      },
      "execution_count": null,
      "outputs": [
        {
          "output_type": "stream",
          "name": "stdout",
          "text": [
            "Occurrences of label 0: 30025\n",
            "Occurrences of label 1: 541\n",
            "Occurrences of label 2: 0\n"
          ]
        }
      ]
    },
    {
      "cell_type": "code",
      "source": [
        "import numpy as np\n",
        "from sklearn.metrics import confusion_matrix, accuracy_score, precision_score, recall_score, f1_score\n",
        "\n",
        "# Flatten the predicted and actual labels\n",
        "pred_y_flat = np.argmax(predictions, axis=-1).ravel()\n",
        "act_y_flat = test_labels_reshaped.argmax(axis=-1).ravel()\n",
        "\n",
        "# Define classes\n",
        "classes = [0, 1, 2]  # Assuming classes are 0, 1, 2\n",
        "\n",
        "# Calculate confusion matrix\n",
        "conf_matrix = confusion_matrix(act_y_flat, pred_y_flat, labels=classes)\n",
        "\n",
        "# Calculate accuracy\n",
        "accuracy = accuracy_score(act_y_flat, pred_y_flat)\n",
        "\n",
        "# Print the confusion matrix\n",
        "print(\"Confusion Matrix:\")\n",
        "print(conf_matrix)\n",
        "print(\"\\nAccuracy:\", accuracy)\n",
        "\n",
        "# Calculate precision, recall, and F1-score for each class\n",
        "precision = precision_score(act_y_flat, pred_y_flat, average=None, labels=classes)\n",
        "recall = recall_score(act_y_flat, pred_y_flat, average=None, labels=classes)\n",
        "f1 = f1_score(act_y_flat, pred_y_flat, average=None, labels=classes)\n",
        "\n",
        "# Print precision, recall, and F1-score for each class\n",
        "for i, cls in enumerate(classes):\n",
        "    print(f\"Class {cls}:\")\n",
        "    print(f\"  Precision: {precision[i]}\")\n",
        "    print(f\"  Recall: {recall[i]}\")\n",
        "    print(f\"  F1-score: {f1[i]}\")\n",
        "\n"
      ],
      "metadata": {
        "colab": {
          "base_uri": "https://localhost:8080/"
        },
        "id": "IpfPSDFmvv3m",
        "outputId": "d69d6258-6b61-49b3-f01e-621eb154f5ca"
      },
      "execution_count": null,
      "outputs": [
        {
          "output_type": "stream",
          "name": "stdout",
          "text": [
            "Confusion Matrix:\n",
            "[[29944   366     0]\n",
            " [   81   175     0]\n",
            " [    0     0     0]]\n",
            "\n",
            "Accuracy: 0.9853759078714912\n",
            "Class 0:\n",
            "  Precision: 0.9973022481265612\n",
            "  Recall: 0.9879247773012207\n",
            "  F1-score: 0.9925913648794232\n",
            "Class 1:\n",
            "  Precision: 0.3234750462107209\n",
            "  Recall: 0.68359375\n",
            "  F1-score: 0.4391468005018821\n",
            "Class 2:\n",
            "  Precision: 0.0\n",
            "  Recall: 0.0\n",
            "  F1-score: 0.0\n"
          ]
        },
        {
          "output_type": "stream",
          "name": "stderr",
          "text": [
            "/usr/local/lib/python3.10/dist-packages/sklearn/metrics/_classification.py:1344: UndefinedMetricWarning: Precision is ill-defined and being set to 0.0 in labels with no predicted samples. Use `zero_division` parameter to control this behavior.\n",
            "  _warn_prf(average, modifier, msg_start, len(result))\n",
            "/usr/local/lib/python3.10/dist-packages/sklearn/metrics/_classification.py:1344: UndefinedMetricWarning: Recall is ill-defined and being set to 0.0 in labels with no true samples. Use `zero_division` parameter to control this behavior.\n",
            "  _warn_prf(average, modifier, msg_start, len(result))\n",
            "/usr/local/lib/python3.10/dist-packages/sklearn/metrics/_classification.py:1609: UndefinedMetricWarning: F-score is ill-defined and being set to 0.0 in labels with no true nor predicted samples. Use `zero_division` parameter to control this behavior.\n",
            "  _warn_prf(average, \"true nor predicted\", \"F-score is\", len(true_sum))\n"
          ]
        }
      ]
    },
    {
      "cell_type": "code",
      "source": [
        "import seaborn as sns\n",
        "import matplotlib.pyplot as plt\n",
        "\n",
        "# Assuming you have a confusion matrix stored in 'conf_matrix'\n",
        "sns.clustermap(conf_matrix, cmap='coolwarm', annot=True, fmt=\"d\")\n",
        "plt.title('Confusion Matrix')\n",
        "plt.show()\n",
        "\n"
      ],
      "metadata": {
        "colab": {
          "base_uri": "https://localhost:8080/",
          "height": 1000
        },
        "id": "tYVFdAqPyHYY",
        "outputId": "4703a622-a14d-430a-879d-7cd0047d61a7"
      },
      "execution_count": null,
      "outputs": [
        {
          "output_type": "display_data",
          "data": {
            "text/plain": [
              "<Figure size 1000x1000 with 4 Axes>"
            ],
            "image/png": "[encoded data removed]"
          },
          "metadata": {}
        }
      ]
    },
    {
      "cell_type": "code",
      "source": [
        "import matplotlib.pyplot as plt\n",
        "\n",
        "def plot_predictions_with_class_1(predictions, test_labels, num_classes):\n",
        "    # Choose 5 random indices for visualization\n",
        "    indices = np.random.choice(len(predictions), 5, replace=True)\n",
        "\n",
        "    # Define a colormap for better visualization\n",
        "    cmap = plt.get_cmap('viridis', num_classes)\n",
        "\n",
        "    fig, axes = plt.subplots(2, 5, figsize=(15, 6))\n",
        "\n",
        "    for i, idx in enumerate(indices):\n",
        "        # Get the predicted and true labels for the current index\n",
        "        pred_label = predictions[idx]\n",
        "        true_label = test_labels[idx]\n",
        "\n",
        "        # Plot the predicted label\n",
        "        axes[0, i].imshow(pred_label.argmax(axis=-1), cmap=cmap, vmin=0, vmax=num_classes-1)\n",
        "        axes[0, i].set_title('Prediction')\n",
        "        axes[0, i].axis('off')\n",
        "\n",
        "        # Plot the true label\n",
        "        true_label_image = axes[1, i].imshow(true_label.argmax(axis=-1), cmap=cmap, vmin=0, vmax=num_classes-1)\n",
        "        axes[1, i].set_title('True Label')\n",
        "        axes[1, i].axis('off')\n",
        "\n",
        "        # Check if class 1 labels exist in the sampled region\n",
        "        if np.any(true_label[..., 1]):\n",
        "            true_label_image.set_clim(0, num_classes-1)\n",
        "\n",
        "    plt.tight_layout()\n",
        "    plt.show()\n",
        "\n",
        "# Visualize predictions and corresponding test labels with class 1 labels\n",
        "plot_predictions_with_class_1(predicted_labels_reshaped, test_labels_reshaped, num_classes)\n",
        "\n"
      ],
      "metadata": {
        "id": "6sxeqKG2RugM",
        "colab": {
          "base_uri": "https://localhost:8080/",
          "height": 607
        },
        "outputId": "c2a87860-7d80-4024-fb16-331280d933c3"
      },
      "execution_count": null,
      "outputs": [
        {
          "output_type": "display_data",
          "data": {
            "text/plain": [
              "<Figure size 1500x600 with 10 Axes>"
            ],
            "image/png": "[encoded data removed]"
          },
          "metadata": {}
        }
      ]
    }
  ]
}